{
  "nbformat": 4,
  "nbformat_minor": 0,
  "metadata": {
    "colab": {
      "name": "Tutorial10_Sets.ipynb",
      "provenance": [],
      "authorship_tag": "ABX9TyORIRu8D0EY9RmIiMk+viDl",
      "include_colab_link": true
    },
    "kernelspec": {
      "name": "python3",
      "display_name": "Python 3"
    }
  },
  "cells": [
    {
      "cell_type": "markdown",
      "metadata": {
        "id": "view-in-github",
        "colab_type": "text"
      },
      "source": [
        "<a href=\"https://colab.research.google.com/github/Shambhavi-Gupta/Tutorial10_Sets/blob/main/Tutorial10_Sets.ipynb\" target=\"_parent\"><img src=\"https://colab.research.google.com/assets/colab-badge.svg\" alt=\"Open In Colab\"/></a>"
      ]
    },
    {
      "cell_type": "code",
      "metadata": {
        "id": "Jrb83YA3GRTG"
      },
      "source": [
        "a = set()\r\n",
        "#print(type(a))\r\n",
        "a_list = set([1,2,3,4,5])\r\n",
        "#print(a_list)\r\n",
        "a.add(1)\r\n",
        "#print(a)\r\n",
        "a.add(2) #will not take 1 because set is unique\r\n",
        "#print(a)\r\n",
        "#a.add(2)\r\n",
        "a1 = a.union({1,2,3})\r\n",
        "#print(a , a1)\r\n",
        "#print(max(a1))\r\n",
        "#print(min(a1))\r\n",
        "a1 = {4,6}\r\n",
        "#print(a.isdisjoint(a1))\r\n",
        "a.remove(2)\r\n",
        "print(a)"
      ],
      "execution_count": null,
      "outputs": []
    }
  ]
}